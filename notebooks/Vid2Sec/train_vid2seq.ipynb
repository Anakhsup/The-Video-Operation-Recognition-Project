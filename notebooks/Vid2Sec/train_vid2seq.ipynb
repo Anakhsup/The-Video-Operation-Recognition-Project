{
 "cells": [
  {
   "cell_type": "code",
   "execution_count": null,
   "id": "1d7a7bb2",
   "metadata": {},
   "outputs": [],
   "source": [
    "import torch\n",
    "import torch.nn as nn\n",
    "import torch.nn.functional as F\n",
    "from torch.autograd import Variable\n",
    "import torch.optim as optim\n",
    "import torchvision\n",
    "import torchvision.models as models\n",
    "from torchvision import transforms\n",
    "from torch.utils.data import Dataset, DataLoader\n",
    "from torch.utils.data.sampler import SubsetRandomSampler\n",
    "\n",
    "import copy\n",
    "import os\n",
    "import sys\n",
    "import cv2\n",
    "import numpy as np\n",
    "import pandas as pd\n",
    "import matplotlib.pyplot as plt\n",
    "from moviepy.editor import VideoFileClip\n",
    "from tqdm.autonotebook import tqdm\n",
    "from functools import partial\n"
   ]
  },
  {
   "cell_type": "markdown",
   "id": "RkVdgMkEOQTJ",
   "metadata": {
    "id": "RkVdgMkEOQTJ"
   },
   "source": [
    "Model"
   ]
  },
  {
   "cell_type": "code",
   "execution_count": 6,
   "id": "1yjaLqF5ODzm",
   "metadata": {
    "id": "1yjaLqF5ODzm"
   },
   "outputs": [],
   "source": [
    "def conv3x3x3(in_planes, out_planes, stride=1):\n",
    "    \"\"\"\n",
    "    3x3x3 convolution with padding.\n",
    "\n",
    "    Args:\n",
    "        in_planes (int): Number of input channels.\n",
    "        out_planes (int): Number of output channels.\n",
    "        stride (int): Stride of the convolution.\n",
    "\n",
    "    Returns:\n",
    "        nn.Conv3d: Convolutional layer.\n",
    "    \"\"\"\n",
    "    return nn.Conv3d(\n",
    "        in_planes,\n",
    "        out_planes,\n",
    "        kernel_size=3,\n",
    "        stride=stride,\n",
    "        padding=1,\n",
    "        bias=False)\n",
    "\n",
    "def downsample_basic_block(x, planes, stride):\n",
    "    \"\"\"\n",
    "    Downsample the input tensor using average pooling and zero-padding.\n",
    "\n",
    "    Args:\n",
    "        x (torch.Tensor): Input tensor.\n",
    "        planes (int): Number of output channels.\n",
    "        stride (int): Stride of the pooling.\n",
    "\n",
    "    Returns:\n",
    "        torch.Tensor: Downsampled tensor.\n",
    "    \"\"\"\n",
    "    out = F.avg_pool3d(x, kernel_size=1, stride=stride)\n",
    "    zero_pads = torch.Tensor(out.size(0), planes - out.size(1), out.size(2), out.size(3), out.size(4)).zero_()\n",
    "    if isinstance(out.data, torch.cuda.FloatTensor):\n",
    "        zero_pads = zero_pads.cuda()\n",
    "    out = Variable(torch.cat([out.data, zero_pads], dim=1))\n",
    "\n",
    "    return out\n",
    "\n",
    "class Bottleneck(nn.Module):\n",
    "    \"\"\"\n",
    "    Bottleneck block for ResNet.\n",
    "    \"\"\"\n",
    "    expansion = 4\n",
    "\n",
    "    def __init__(self, inplanes, planes, stride=1, downsample=None, head_conv=1):\n",
    "        \"\"\"\n",
    "        Initializes the Bottleneck block.\n",
    "\n",
    "        Args:\n",
    "            inplanes (int): Number of input channels.\n",
    "            planes (int): Number of output channels.\n",
    "            stride (int): Stride of the convolution.\n",
    "            downsample (nn.Module, optional): Downsampling layer. Defaults to None.\n",
    "            head_conv (int, optional): Type of head convolution. Defaults to 1.\n",
    "        \"\"\"\n",
    "        super(Bottleneck, self).__init__()\n",
    "        if head_conv == 1:\n",
    "            self.conv1 = nn.Conv3d(inplanes, planes, kernel_size=1, bias=False)\n",
    "            self.bn1 = nn.BatchNorm3d(planes)\n",
    "        elif head_conv == 3:\n",
    "            self.conv1 = nn.Conv3d(inplanes, planes, kernel_size=(3, 1, 1), bias=False, padding=(1, 0, 0))\n",
    "            self.bn1 = nn.BatchNorm3d(planes)\n",
    "        else:\n",
    "            raise ValueError(\"Unsupported head_conv!\")\n",
    "        self.conv2 = nn.Conv3d(\n",
    "            planes, planes, kernel_size=(1, 3, 3), stride=(1, stride, stride), padding=(0, 1, 1), bias=False)\n",
    "        self.bn2 = nn.BatchNorm3d(planes)\n",
    "        self.conv3 = nn.Conv3d(planes, planes * 4, kernel_size=1, bias=False)\n",
    "        self.bn3 = nn.BatchNorm3d(planes * 4)\n",
    "        self.relu = nn.ReLU(inplace=True)\n",
    "        self.downsample = downsample\n",
    "        self.stride = stride\n",
    "\n",
    "    def forward(self, x):\n",
    "        \"\"\"\n",
    "        Forward pass of the Bottleneck block.\n",
    "\n",
    "        Args:\n",
    "            x (torch.Tensor): Input tensor.\n",
    "\n",
    "        Returns:\n",
    "            torch.Tensor: Output tensor.\n",
    "        \"\"\"\n",
    "        residual = x\n",
    "\n",
    "        out = self.conv1(x)\n",
    "        out = self.bn1(out)\n",
    "        out = self.relu(out)\n",
    "\n",
    "        out = self.conv2(out)\n",
    "        out = self.bn2(out)\n",
    "        out = self.relu(out)\n",
    "\n",
    "        out = self.conv3(out)\n",
    "        out = self.bn3(out)\n",
    "\n",
    "        if self.downsample is not None:\n",
    "            residual = self.downsample(x)\n",
    "\n",
    "        out += residual\n",
    "        out = self.relu(out)\n",
    "\n",
    "        return out\n",
    "\n",
    "def get_fine_tuning_parameters(model, ft_begin_index):\n",
    "    \"\"\"\n",
    "    Get the parameters for fine-tuning.\n",
    "\n",
    "    Args:\n",
    "        model (nn.Module): Model to fine-tune.\n",
    "        ft_begin_index (int): Index of the first layer to fine-tune.\n",
    "\n",
    "    Returns:\n",
    "        list: List of parameters.\n",
    "    \"\"\"\n",
    "    if ft_begin_index == 0:\n",
    "        return model.parameters()\n",
    "\n",
    "    ft_module_names = []\n",
    "    for i in range(ft_begin_index, 5):\n",
    "        ft_module_names.append('layer{}'.format(i))\n",
    "    ft_module_names.append('fc')\n",
    "\n",
    "    parameters = []\n",
    "    for k, v in model.named_parameters():\n",
    "        for ft_module in ft_module_names:\n",
    "            if ft_module in k:\n",
    "                parameters.append({'params': v})\n",
    "                break\n",
    "        else:\n",
    "            parameters.append({'params': v, 'lr': 0.0})\n",
    "\n",
    "    return parameters\n",
    "\n",
    "class SlowFast(nn.Module):\n",
    "    \"\"\"\n",
    "    SlowFast network for video recognition.\n",
    "    \"\"\"\n",
    "    def __init__(self, block=Bottleneck, layers=[3, 4, 6, 3], class_num=27, shortcut_type='B', dropout=0.5,\n",
    "                 alpha=8, beta=0.125):\n",
    "        \"\"\"\n",
    "        Initializes the SlowFast network.\n",
    "\n",
    "        Args:\n",
    "            block (nn.Module, optional): Bottleneck block. Defaults to Bottleneck.\n",
    "            layers (list, optional): Number of layers in each block. Defaults to [3, 4, 6, 3].\n",
    "            class_num (int, optional): Number of classes. Defaults to 27.\n",
    "            shortcut_type (str, optional): Type of shortcut connection. Defaults to 'B'.\n",
    "            dropout (float, optional): Dropout rate. Defaults to 0.5.\n",
    "            alpha (int, optional): Temporal stride for slow path. Defaults to 8.\n",
    "            beta (float, optional): Channel ratio between fast and slow path. Defaults to 0.125.\n",
    "        \"\"\"\n",
    "        super(SlowFast, self).__init__()\n",
    "        self.alpha = alpha\n",
    "        self.beta = beta\n",
    "\n",
    "        self.fast_inplanes = int(64 * beta)\n",
    "        fast_inplanes = self.fast_inplanes\n",
    "        self.fast_conv1 = nn.Conv3d(3, fast_inplanes, kernel_size=(5, 7, 7), stride=(1, 2, 2), padding=(2, 3, 3),\n",
    "                                    bias=False)\n",
    "        self.fast_bn1 = nn.BatchNorm3d(8)\n",
    "        self.fast_relu = nn.ReLU(inplace=True)\n",
    "        self.fast_maxpool = nn.MaxPool3d(kernel_size=(1, 3, 3), stride=(1, 2, 2), padding=(0, 1, 1))\n",
    "        self.fast_res1 = self._make_layer_fast(block, 8, layers[0], shortcut_type, head_conv=3)\n",
    "        self.fast_res2 = self._make_layer_fast(\n",
    "            block, 16, layers[1], shortcut_type, stride=2, head_conv=3)\n",
    "        self.fast_res3 = self._make_layer_fast(\n",
    "            block, 32, layers[2], shortcut_type, stride=2, head_conv=3)\n",
    "        self.fast_res4 = self._make_layer_fast(\n",
    "            block, 64, layers[3], shortcut_type, stride=2, head_conv=3)\n",
    "\n",
    "        self.slow_inplanes = 64\n",
    "        slow_inplanes = self.slow_inplanes\n",
    "        self.slow_conv1 = nn.Conv3d(3, slow_inplanes, kernel_size=(1, 7, 7), stride=(1, 2, 2), padding=(0, 3, 3),\n",
    "                                    bias=False)\n",
    "        self.slow_bn1 = nn.BatchNorm3d(64)\n",
    "        self.slow_relu = nn.ReLU(inplace=True)\n",
    "        self.slow_maxpool = nn.MaxPool3d(kernel_size=(1, 3, 3), stride=(1, 2, 2), padding=(0, 1, 1))\n",
    "        self.slow_res1 = self._make_layer_slow(block, 64, layers[0], shortcut_type, head_conv=1)\n",
    "        self.slow_res2 = self._make_layer_slow(\n",
    "            block, 128, layers[1], shortcut_type, stride=2, head_conv=1)\n",
    "        self.slow_res3 = self._make_layer_slow(\n",
    "            block, 256, layers[2], shortcut_type, stride=2, head_conv=1)\n",
    "        self.slow_res4 = self._make_layer_slow(\n",
    "            block, 512, layers[3], shortcut_type, stride=2, head_conv=1)\n",
    "\n",
    "        self.Tconv1 = nn.Conv3d(8, 16, kernel_size=(5, 1, 1), stride=(alpha, 1, 1), padding=(2, 0, 0), bias=False)\n",
    "        self.Tconv2 = nn.Conv3d(32, 64, kernel_size=(5, 1, 1), stride=(alpha, 1, 1), padding=(2, 0, 0), bias=False)\n",
    "        self.Tconv3 = nn.Conv3d(64, 128, kernel_size=(5, 1, 1), stride=(alpha, 1, 1), padding=(2, 0, 0), bias=False)\n",
    "        self.Tconv4 = nn.Conv3d(128, 256, kernel_size=(5, 1, 1), stride=(alpha, 1, 1), padding=(2, 0, 0), bias=False)\n",
    "\n",
    "        self.dp = nn.Dropout(dropout)\n",
    "        self.fc = nn.Linear(self.fast_inplanes + self.slow_inplanes, class_num)\n",
    "\n",
    "    def forward(self, input):\n",
    "        \"\"\"\n",
    "        Forward pass of the SlowFast network.\n",
    "\n",
    "        Args:\n",
    "            input (torch.Tensor): Input tensor.\n",
    "\n",
    "        Returns:\n",
    "            torch.Tensor: Output tensor.\n",
    "        \"\"\"\n",
    "        fast, Tc = self.FastPath(input[:, :, ::2, :, :])\n",
    "        slow = self.SlowPath(input[:, :, ::16, :, :], Tc)\n",
    "        x = torch.cat([slow, fast], dim=1)\n",
    "        x = self.dp(x)\n",
    "        x = self.fc(x)\n",
    "        return x\n",
    "\n",
    "    def SlowPath(self, input, Tc):\n",
    "        \"\"\"\n",
    "        Forward pass of the slow path.\n",
    "\n",
    "        Args:\n",
    "            input (torch.Tensor): Input tensor.\n",
    "            Tc (list): List of temporal convolutional features from the fast path.\n",
    "\n",
    "        Returns:\n",
    "            torch.Tensor: Output tensor.\n",
    "        \"\"\"\n",
    "        x = self.slow_conv1(input)\n",
    "        x = self.slow_bn1(x)\n",
    "        x = self.slow_relu(x)\n",
    "        x = self.slow_maxpool(x)\n",
    "        x = torch.cat([x, Tc[0]], dim=1)\n",
    "        x = self.slow_res1(x)\n",
    "        x = torch.cat([x, Tc[1]], dim=1)\n",
    "        x = self.slow_res2(x)\n",
    "        x = torch.cat([x, Tc[2]], dim=1)\n",
    "        x = self.slow_res3(x)\n",
    "        x = torch.cat([x, Tc[3]], dim=1)\n",
    "        x = self.slow_res4(x)\n",
    "        x = nn.AdaptiveAvgPool3d(1)(x)\n",
    "        x = x.view(-1, x.size(1))\n",
    "        return x\n",
    "\n",
    "    def FastPath(self, input):\n",
    "        \"\"\"\n",
    "        Forward pass of the fast path.\n",
    "\n",
    "        Args:\n",
    "            input (torch.Tensor): Input tensor.\n",
    "\n",
    "        Returns:\n",
    "            tuple: Output tensor and list of temporal convolutional features.\n",
    "        \"\"\"\n",
    "        x = self.fast_conv1(input)\n",
    "        x = self.fast_bn1(x)\n",
    "        x = self.fast_relu(x)\n",
    "        x = self.fast_maxpool(x)\n",
    "        Tc1 = self.Tconv1(x)\n",
    "        x = self.fast_res1(x)\n",
    "        Tc2 = self.Tconv2(x)\n",
    "        x = self.fast_res2(x)\n",
    "        Tc3 = self.Tconv3(x)\n",
    "        x = self.fast_res3(x)\n",
    "        Tc4 = self.Tconv4(x)\n",
    "        x = self.fast_res4(x)\n",
    "        x = nn.AdaptiveAvgPool3d(1)(x)\n",
    "        x = x.view(-1, x.size(1))\n",
    "        return x, [Tc1, Tc2, Tc3, Tc4]\n",
    "\n",
    "    def _make_layer_fast(self, block, planes, blocks, shortcut_type, stride=1, head_conv=1):\n",
    "        \"\"\"\n",
    "        Make a fast layer.\n",
    "\n",
    "        Args:\n",
    "            block (nn.Module): Bottleneck block.\n",
    "            planes (int): Number of output channels.\n",
    "            blocks (int): Number of blocks in the layer.\n",
    "            shortcut_type (str): Type of shortcut connection.\n",
    "            stride (int, optional): Stride of the convolution. Defaults to 1.\n",
    "            head_conv (int, optional): Type of head convolution. Defaults to 1.\n",
    "\n",
    "        Returns:\n",
    "            nn.Sequential: Sequential layer.\n",
    "        \"\"\"\n",
    "        downsample = None\n",
    "        if stride != 1 or self.fast_inplanes != planes * block.expansion:\n",
    "            if shortcut_type == 'A':\n",
    "                downsample = partial(\n",
    "                    downsample_basic_block,\n",
    "                    planes=planes * block.expansion,\n",
    "                    stride=stride)\n",
    "            else:\n",
    "                downsample = nn.Sequential(\n",
    "                    nn.Conv3d(\n",
    "                        self.fast_inplanes,\n",
    "                        planes * block.expansion,\n",
    "                        kernel_size=1,\n",
    "                        stride=(1, stride, stride),\n",
    "                        bias=False), nn.BatchNorm3d(planes * block.expansion))\n",
    "\n",
    "        layers = []\n",
    "        layers.append(block(self.fast_inplanes, planes, stride, downsample, head_conv=head_conv))\n",
    "        self.fast_inplanes = planes * block.expansion\n",
    "        for i in range(1, blocks):\n",
    "            layers.append(block(self.fast_inplanes, planes, head_conv=head_conv))\n",
    "        return nn.Sequential(*layers)\n",
    "\n",
    "    def _make_layer_slow(self, block, planes, blocks, shortcut_type, stride=1, head_conv=1):\n",
    "        \"\"\"\n",
    "        Make a slow layer.\n",
    "\n",
    "        Args:\n",
    "            block (nn.Module): Bottleneck block.\n",
    "            planes (int): Number of output channels.\n",
    "            blocks (int): Number of blocks in the layer.\n",
    "            shortcut_type (str): Type of shortcut connection.\n",
    "            stride (int, optional): Stride of the convolution. Defaults to 1.\n",
    "            head_conv (int, optional): Type of head convolution. Defaults to 1.\n",
    "\n",
    "        Returns:\n",
    "            nn.Sequential: Sequential layer.\n",
    "        \"\"\"\n",
    "        downsample = None\n",
    "        if stride != 1 or self.slow_inplanes != planes * block.expansion:\n",
    "            if shortcut_type == 'A':\n",
    "                downsample = partial(\n",
    "                    downsample_basic_block,\n",
    "                    planes=planes * block.expansion,\n",
    "                    stride=stride)\n",
    "            else:\n",
    "                downsample = nn.Sequential(\n",
    "                    nn.Conv3d(\n",
    "                        self.slow_inplanes + self.slow_inplanes // self.alpha * 2,\n",
    "                        planes * block.expansion,\n",
    "                        kernel_size=1,\n",
    "                        stride=(1, stride, stride),\n",
    "                        bias=False), nn.BatchNorm3d(planes * block.expansion))\n",
    "\n",
    "        layers = []\n",
    "        layers.append(block(self.slow_inplanes + self.slow_inplanes // self.alpha * 2, planes, stride, downsample,\n",
    "                            head_conv=head_conv))\n",
    "        self.slow_inplanes = planes * block.expansion\n",
    "        for i in range(1, blocks):\n",
    "            layers.append(block(self.slow_inplanes, planes, head_conv=head_conv))\n",
    "\n",
    "        return nn.Sequential(*layers)\n",
    "\n",
    "def resnet50(**kwargs):\n",
    "    \"\"\"\n",
    "    Constructs a ResNet-50 model.\n",
    "    \"\"\"\n",
    "    model = SlowFast(Bottleneck, [3, 4, 6, 3], **kwargs)\n",
    "    return model\n",
    "\n",
    "def resnet101(**kwargs):\n",
    "    \"\"\"\n",
    "    Constructs a ResNet-101 model.\n",
    "    \"\"\"\n",
    "    model = SlowFast(Bottleneck, [3, 4, 23, 3], **kwargs)\n",
    "    return model\n",
    "\n",
    "def resnet152(**kwargs):\n",
    "    \"\"\"\n",
    "    Constructs a ResNet-152 model.\n",
    "    \"\"\"\n",
    "    model = SlowFast(Bottleneck, [3, 8, 36, 3], **kwargs)\n",
    "    return model\n",
    "\n",
    "def resnet200(**kwargs):\n",
    "    \"\"\"\n",
    "    Constructs a ResNet-200 model.\n",
    "    \"\"\"\n",
    "    model = SlowFast(Bottleneck, [3, 24, 36, 3], **kwargs)\n",
    "    return model\n"
   ]
  },
  {
   "cell_type": "markdown",
   "id": "MmrPHRFPOUxy",
   "metadata": {
    "id": "MmrPHRFPOUxy"
   },
   "source": [
    "Clr"
   ]
  },
  {
   "cell_type": "code",
   "execution_count": null,
   "id": "9mrP5Gt6OVsi",
   "metadata": {
    "id": "9mrP5Gt6OVsi"
   },
   "outputs": [],
   "source": [
    "class OneCycle(object):\n",
    "    \"\"\"Implements the 1cycle learning rate/momentum scheduler.\n",
    "    \n",
    "    Cycles LR between max_lr/div and max_lr, and momentum between high/low values.\n",
    "    \"\"\"\n",
    "\n",
    "    def __init__(self, nb, max_lr, momentum_vals=(0.95, 0.85), prcnt=10, div=10):\n",
    "        \"\"\"\n",
    "        Args:\n",
    "            nb: Total number of iterations\n",
    "            max_lr: Maximum learning rate\n",
    "            momentum_vals: Tuple of (high_momentum, low_momentum)\n",
    "            prcnt: Percentage of iterations for annealing (default: 10)\n",
    "            div: Division factor for minimum LR (default: 10)\n",
    "        \"\"\"\n",
    "        self.nb = nb\n",
    "        self.div = div\n",
    "        self.step_len = int(self.nb * (1 - prcnt/100)/2)\n",
    "        self.high_lr = max_lr\n",
    "        self.low_mom = momentum_vals[1]\n",
    "        self.high_mom = momentum_vals[0]\n",
    "        self.prcnt = prcnt\n",
    "        self.iteration = 0\n",
    "        self.lrs = []\n",
    "        self.moms = []\n",
    "\n",
    "    def calc(self):\n",
    "        \"\"\"Returns current (learning_rate, momentum) pair.\"\"\"\n",
    "        self.iteration += 1\n",
    "        lr = self.calc_lr()\n",
    "        mom = self.calc_mom()\n",
    "        return (lr, mom)\n",
    "\n",
    "    def calc_lr(self):\n",
    "        \"\"\"Calculates current learning rate based on iteration progress.\"\"\"\n",
    "        if self.iteration == self.nb:\n",
    "            self.iteration = 0\n",
    "            self.lrs.append(self.high_lr/self.div)\n",
    "            return self.high_lr/self.div\n",
    "        if self.iteration > 2 * self.step_len:\n",
    "            ratio = (self.iteration - 2 * self.step_len) / (self.nb - 2 * self.step_len)\n",
    "            lr = self.high_lr * (1 - 0.99 * ratio)/self.div\n",
    "        elif self.iteration > self.step_len:\n",
    "            ratio = 1 - (self.iteration - self.step_len)/self.step_len\n",
    "            lr = self.high_lr * (1 + ratio * (self.div - 1)) / self.div\n",
    "        else:\n",
    "            ratio = self.iteration/self.step_len\n",
    "            lr = self.high_lr * (1 + ratio * (self.div - 1)) / self.div\n",
    "        self.lrs.append(lr)\n",
    "        return lr\n",
    "\n",
    "    def calc_mom(self):\n",
    "        \"\"\"Calculates current momentum based on iteration progress.\"\"\"\n",
    "        if self.iteration == self.nb:\n",
    "            self.iteration = 0\n",
    "            self.moms.append(self.high_mom)\n",
    "            return self.high_mom\n",
    "        if self.iteration > 2 * self.step_len:\n",
    "            mom = self.high_mom\n",
    "        elif self.iteration > self.step_len:\n",
    "            ratio = (self.iteration - self.step_len)/self.step_len\n",
    "            mom = self.low_mom + ratio * (self.high_mom - self.low_mom)\n",
    "        else:\n",
    "            ratio = self.iteration/self.step_len\n",
    "            mom = self.high_mom - ratio * (self.high_mom - self.low_mom)\n",
    "        self.moms.append(mom)\n",
    "        return mom\n",
    "\n",
    "\n",
    "def update_lr(optimizer, lr):\n",
    "    \"\"\"Updates learning rate for all parameter groups in optimizer.\"\"\"\n",
    "    for g in optimizer.param_groups:\n",
    "        g['lr'] = lr\n",
    "\n",
    "\n",
    "def update_mom(optimizer, mom):\n",
    "    \"\"\"Updates momentum for all parameter groups in optimizer.\"\"\"\n",
    "    for g in optimizer.param_groups:\n",
    "        g['momentum'] = mom"
   ]
  },
  {
   "cell_type": "code",
   "execution_count": 8,
   "id": "r6BlG4IhKyAF",
   "metadata": {
    "colab": {
     "base_uri": "https://localhost:8080/"
    },
    "id": "r6BlG4IhKyAF",
    "outputId": "22b7eee8-5925-4447-fc7e-56fecc9295b8"
   },
   "outputs": [
    {
     "name": "stdout",
     "output_type": "stream",
     "text": [
      "['gas_analyzer', 'syringing', 'inspection', 'measure', 'pipe_work', 'HRW_work', 'pipe_up', 'pipe_down', 'cleaning', 'open_mouth', 'gaskets', 'spider_landing', 'unscrewing PCP', 'remove_PCP', 'unscrewing_PCP', 'crane_lowering', 'crane_lifting', 'PCP_roll', 'cross_rotation']\n",
      "Decoder: {'gas_analyzer': 0, 'syringing': 1, 'inspection': 2, 'measure': 3, 'pipe_work': 4, 'HRW_work': 5, 'pipe_up': 6, 'pipe_down': 7, 'cleaning': 8, 'open_mouth': 9, 'gaskets': 10, 'spider_landing': 11, 'unscrewing PCP': 12, 'remove_PCP': 13, 'unscrewing_PCP': 14, 'crane_lowering': 15, 'crane_lifting': 16, 'PCP_roll': 17, 'cross_rotation': 18}\n",
      "Encoder: {0: 'gas_analyzer', 1: 'syringing', 2: 'inspection', 3: 'measure', 4: 'pipe_work', 5: 'HRW_work', 6: 'pipe_up', 7: 'pipe_down', 8: 'cleaning', 9: 'open_mouth', 10: 'gaskets', 11: 'spider_landing', 12: 'unscrewing PCP', 13: 'remove_PCP', 14: 'unscrewing_PCP', 15: 'crane_lowering', 16: 'crane_lifting', 17: 'PCP_roll', 18: 'cross_rotation'}\n"
     ]
    }
   ],
   "source": [
    "data_path = '/root/tatneft/datasets/violations_dataset/cuts1_labels.txt'\n",
    "\n",
    "# Read class labels from file and store them in a list\n",
    "with open(data_path, 'r') as file:\n",
    "    classes = [line.strip() for line in file.readlines()]\n",
    "\n",
    "print(classes)\n",
    "\n",
    "# Create a decoder dictionary that maps class labels to their index\n",
    "decoder = {classes[i]: i for i in range(len(classes))}\n",
    "\n",
    "# Create an encoder dictionary that maps indices to class labels\n",
    "encoder = {i: classes[i] for i in range(len(classes))}\n",
    "\n",
    "print(\"Decoder:\", decoder)\n",
    "print(\"Encoder:\", encoder)\n",
    "\n",
    "# List to store video paths and class labels\n",
    "id_list = []\n",
    "\n",
    "# Path to the annotation file containing video paths and corresponding class labels\n",
    "annotations_path = '/root/tatneft/datasets/violations_dataset/cuts1_train.txt'\n",
    "\n",
    "# Read the annotation file and store video paths with class labels in id_list\n",
    "with open(annotations_path, 'r') as file:\n",
    "    for line in file:\n",
    "        video_path, class_label = line.strip().split()\n",
    "        id_list.append((video_path, int(class_label)))\n",
    "\n",
    "# Print the total number of entries and the first five samples\n",
    "print(len(id_list))\n",
    "print(id_list[:5])"
   ]
  },
  {
   "cell_type": "code",
   "execution_count": 11,
   "id": "89b1b3ab",
   "metadata": {},
   "outputs": [],
   "source": [
    "class video_dataset(Dataset):\n",
    "    \"\"\"\n",
    "    PyTorch Dataset for loading video sequences with fixed frame length.\n",
    "    \"\"\"\n",
    "    def __init__(self, frame_list, sequence_length=16, transform=None, im_size=256):\n",
    "        self.frame_list = frame_list\n",
    "        self.transform = transform\n",
    "        self.sequence_length = sequence_length\n",
    "        self.im_size = im_size\n",
    "\n",
    "    def __len__(self):\n",
    "        return len(self.frame_list)\n",
    "\n",
    "    def __getitem__(self, idx):\n",
    "        path, label = self.frame_list[idx]\n",
    "        path = '/root/tatneft/datasets/violations_dataset/cuts1/' + path\n",
    "\n",
    "        cap = cv2.VideoCapture(path)\n",
    "        if not cap.isOpened():\n",
    "            raise ValueError(f\"Failed to open video file: {path}\")\n",
    "\n",
    "        frames = []\n",
    "        while len(frames) < self.sequence_length:\n",
    "            ret, frame = cap.read()\n",
    "            if not ret:\n",
    "                break\n",
    "\n",
    "            if self.transform:\n",
    "                frame = self.transform(frame)\n",
    "\n",
    "            frames.append(frame)\n",
    "\n",
    "        cap.release()\n",
    "\n",
    "        while len(frames) < self.sequence_length:\n",
    "            frames.append(torch.zeros_like(frames[0]))\n",
    "\n",
    "        seq_image = torch.stack(frames)  # Shape: (sequence_length, channels, height, width)\n",
    "        seq_image = seq_image.permute(1, 0, 2, 3)  # Shape: (channels, sequence_length, height, width)\n",
    "\n",
    "        return seq_image, label"
   ]
  },
  {
   "cell_type": "code",
   "execution_count": 12,
   "id": "c6f436a2",
   "metadata": {
    "colab": {
     "base_uri": "https://localhost:8080/"
    },
    "id": "c6f436a2",
    "outputId": "4c023790-c064-4e80-ba8c-155aac88b86a"
   },
   "outputs": [
    {
     "name": "stdout",
     "output_type": "stream",
     "text": [
      "dict_keys(['train', 'val'])\n"
     ]
    }
   ],
   "source": [
    "# Image parameters\n",
    "im_size = 128\n",
    "mean = [0.4889, 0.4887, 0.4891]\n",
    "std = [0.2074, 0.2074, 0.2074]\n",
    "\n",
    "# Define transformations\n",
    "train_transforms = transforms.Compose([\n",
    "    transforms.ToPILImage(),\n",
    "    transforms.Resize((im_size, im_size)),\n",
    "    transforms.RandomHorizontalFlip(),\n",
    "    transforms.RandomRotation(degrees=10),\n",
    "    transforms.ToTensor(),\n",
    "    transforms.Normalize(mean, std)\n",
    "])\n",
    "\n",
    "# Load training data\n",
    "train_data = video_dataset(id, sequence_length=10, transform=train_transforms)\n",
    "train_loader = DataLoader(train_data, batch_size=8, num_workers=1, shuffle=True)\n",
    "\n",
    "# Load validation data\n",
    "val_path = '/root/tatneft/datasets/violations_dataset/cuts1_val.txt'\n",
    "val_id = []\n",
    "with open(val_path, 'r') as file:\n",
    "    for line in file:\n",
    "        video_path, class_label = line.strip().split()\n",
    "        val_id.append((video_path, int(class_label)))\n",
    "\n",
    "val_data = video_dataset(val_id, sequence_length=10, transform=train_transforms)\n",
    "val_loader = DataLoader(val_data, batch_size=8, num_workers=1, shuffle=False)\n",
    "\n",
    "# Create dataloaders dictionary\n",
    "dataloaders = {'train': train_loader, 'val': val_loader}\n",
    "\n",
    "# Print available keys\n",
    "print(dataloaders.keys())\n"
   ]
  },
  {
   "cell_type": "code",
   "execution_count": 13,
   "id": "db7609be",
   "metadata": {
    "id": "db7609be"
   },
   "outputs": [],
   "source": [
    "model = resnet200(class_num=19)"
   ]
  },
  {
   "cell_type": "code",
   "execution_count": 14,
   "id": "faada049",
   "metadata": {
    "id": "faada049"
   },
   "outputs": [],
   "source": [
    "\"\"\"Learnig parameters\"\"\"\n",
    "\n",
    "device = 'cuda' if torch.cuda.is_available() else 'cpu'\n",
    "\n",
    "cls_criterion = nn.CrossEntropyLoss().to(device)\n",
    "\n",
    "optimizer = torch.optim.SGD(model.parameters(), lr=1e-3, momentum = 0.9,weight_decay = 1e-4)\n",
    "\n",
    "num_epochs = 20\n",
    "\n",
    "onecyc = OneCycle(len(train_loader)*num_epochs,1e-3)"
   ]
  },
  {
   "cell_type": "code",
   "execution_count": 12,
   "id": "c25137be",
   "metadata": {},
   "outputs": [
    {
     "name": "stdout",
     "output_type": "stream",
     "text": [
      "\n",
      "--- Epoch 1 ---\n"
     ]
    },
    {
     "name": "stderr",
     "output_type": "stream",
     "text": [
      "48it [01:43,  2.15s/it]\n",
      "10it [00:20,  2.05s/it]\n"
     ]
    },
    {
     "name": "stdout",
     "output_type": "stream",
     "text": [
      "Train_loss: 2.6855, Val_loss: 65.3912, Precision: 0.1157, Recall: 0.2785, F1: 0.1612\n",
      "\n",
      "--- Epoch 2 ---\n"
     ]
    },
    {
     "name": "stderr",
     "output_type": "stream",
     "text": [
      "48it [01:37,  2.04s/it]\n",
      "10it [00:19,  2.00s/it]\n"
     ]
    },
    {
     "name": "stdout",
     "output_type": "stream",
     "text": [
      "Train_loss: 2.6410, Val_loss: 3.8591, Precision: 0.1792, Recall: 0.2278, F1: 0.1901\n",
      "\n",
      "--- Epoch 3 ---\n"
     ]
    },
    {
     "name": "stderr",
     "output_type": "stream",
     "text": [
      "48it [01:36,  2.02s/it]\n",
      "10it [00:19,  1.99s/it]\n"
     ]
    },
    {
     "name": "stdout",
     "output_type": "stream",
     "text": [
      "Train_loss: 2.6023, Val_loss: 2.4220, Precision: 0.1760, Recall: 0.3038, F1: 0.2116\n",
      "\n",
      "--- Epoch 4 ---\n"
     ]
    },
    {
     "name": "stderr",
     "output_type": "stream",
     "text": [
      "48it [01:39,  2.07s/it]\n",
      "10it [00:20,  2.00s/it]\n"
     ]
    },
    {
     "name": "stdout",
     "output_type": "stream",
     "text": [
      "Train_loss: 2.6003, Val_loss: 2.1498, Precision: 0.2019, Recall: 0.2911, F1: 0.2326\n",
      "\n",
      "--- Epoch 5 ---\n"
     ]
    },
    {
     "name": "stderr",
     "output_type": "stream",
     "text": [
      "48it [01:36,  2.02s/it]\n",
      "10it [00:19,  1.98s/it]\n"
     ]
    },
    {
     "name": "stdout",
     "output_type": "stream",
     "text": [
      "Train_loss: 2.5035, Val_loss: 2.0964, Precision: 0.2764, Recall: 0.4557, F1: 0.3300\n",
      "\n",
      "--- Epoch 6 ---\n"
     ]
    },
    {
     "name": "stderr",
     "output_type": "stream",
     "text": [
      "48it [01:39,  2.07s/it]\n",
      "10it [00:19,  1.99s/it]"
     ]
    },
    {
     "name": "stdout",
     "output_type": "stream",
     "text": [
      "Train_loss: 2.4698, Val_loss: 2.0740, Precision: 0.2466, Recall: 0.3418, F1: 0.2723\n",
      "\n",
      "--- Epoch 7 ---\n"
     ]
    },
    {
     "name": "stderr",
     "output_type": "stream",
     "text": [
      "\n",
      "48it [01:54,  2.38s/it]\n",
      "10it [00:20,  2.05s/it]"
     ]
    },
    {
     "name": "stdout",
     "output_type": "stream",
     "text": [
      "Train_loss: 2.4280, Val_loss: 1.9892, Precision: 0.2316, Recall: 0.3038, F1: 0.2426\n",
      "\n",
      "--- Epoch 8 ---\n"
     ]
    },
    {
     "name": "stderr",
     "output_type": "stream",
     "text": [
      "\n",
      "48it [01:37,  2.03s/it]\n",
      "10it [00:20,  2.02s/it]"
     ]
    },
    {
     "name": "stdout",
     "output_type": "stream",
     "text": [
      "Train_loss: 2.4173, Val_loss: 3.6172, Precision: 0.1321, Recall: 0.2785, F1: 0.1739\n",
      "\n",
      "--- Epoch 9 ---\n"
     ]
    },
    {
     "name": "stderr",
     "output_type": "stream",
     "text": [
      "\n",
      "48it [01:39,  2.08s/it]\n",
      "10it [00:20,  2.01s/it]"
     ]
    },
    {
     "name": "stdout",
     "output_type": "stream",
     "text": [
      "Train_loss: 2.4288, Val_loss: 2.0961, Precision: 0.2880, Recall: 0.4430, F1: 0.3292\n",
      "\n",
      "--- Epoch 10 ---\n"
     ]
    },
    {
     "name": "stderr",
     "output_type": "stream",
     "text": [
      "\n",
      "48it [01:37,  2.03s/it]\n",
      "10it [00:20,  2.02s/it]"
     ]
    },
    {
     "name": "stdout",
     "output_type": "stream",
     "text": [
      "Train_loss: 2.1298, Val_loss: 1.9297, Precision: 0.3571, Recall: 0.3165, F1: 0.2943\n",
      "\n",
      "--- Epoch 11 ---\n"
     ]
    },
    {
     "name": "stderr",
     "output_type": "stream",
     "text": [
      "\n",
      "48it [01:36,  2.02s/it]\n",
      "10it [00:19,  2.00s/it]\n"
     ]
    },
    {
     "name": "stdout",
     "output_type": "stream",
     "text": [
      "Train_loss: 2.1147, Val_loss: 1.7433, Precision: 0.3899, Recall: 0.4304, F1: 0.3913\n",
      "\n",
      "--- Epoch 12 ---\n"
     ]
    },
    {
     "name": "stderr",
     "output_type": "stream",
     "text": [
      "48it [01:38,  2.05s/it]\n",
      "10it [00:20,  2.06s/it]"
     ]
    },
    {
     "name": "stdout",
     "output_type": "stream",
     "text": [
      "Train_loss: 2.0902, Val_loss: 1.7476, Precision: 0.4574, Recall: 0.3544, F1: 0.3323\n",
      "\n",
      "--- Epoch 13 ---\n"
     ]
    },
    {
     "name": "stderr",
     "output_type": "stream",
     "text": [
      "\n",
      "48it [01:37,  2.03s/it]\n",
      "10it [00:19,  1.99s/it]"
     ]
    },
    {
     "name": "stdout",
     "output_type": "stream",
     "text": [
      "Train_loss: 2.0066, Val_loss: 1.4516, Precision: 0.3391, Recall: 0.4177, F1: 0.3637\n",
      "\n",
      "--- Epoch 14 ---\n"
     ]
    },
    {
     "name": "stderr",
     "output_type": "stream",
     "text": [
      "\n",
      "48it [01:40,  2.09s/it]\n",
      "10it [00:20,  2.03s/it]"
     ]
    },
    {
     "name": "stdout",
     "output_type": "stream",
     "text": [
      "Train_loss: 1.7505, Val_loss: 1.6653, Precision: 0.3179, Recall: 0.3671, F1: 0.3296\n",
      "\n",
      "--- Epoch 15 ---\n"
     ]
    },
    {
     "name": "stderr",
     "output_type": "stream",
     "text": [
      "\n",
      "48it [01:38,  2.05s/it]\n",
      "10it [00:20,  2.02s/it]\n"
     ]
    },
    {
     "name": "stdout",
     "output_type": "stream",
     "text": [
      "Train_loss: 1.8837, Val_loss: 1.4327, Precision: 0.4706, Recall: 0.5443, F1: 0.4846\n",
      "\n",
      "--- Epoch 16 ---\n"
     ]
    },
    {
     "name": "stderr",
     "output_type": "stream",
     "text": [
      "48it [01:38,  2.05s/it]\n",
      "10it [00:20,  2.03s/it]"
     ]
    },
    {
     "name": "stdout",
     "output_type": "stream",
     "text": [
      "Train_loss: 1.7939, Val_loss: 1.5954, Precision: 0.3680, Recall: 0.4177, F1: 0.3639\n",
      "\n",
      "--- Epoch 17 ---\n"
     ]
    },
    {
     "name": "stderr",
     "output_type": "stream",
     "text": [
      "\n",
      "48it [01:37,  2.02s/it]\n",
      "10it [00:20,  2.00s/it]"
     ]
    },
    {
     "name": "stdout",
     "output_type": "stream",
     "text": [
      "Train_loss: 1.7613, Val_loss: 1.1609, Precision: 0.3662, Recall: 0.5949, F1: 0.4510\n",
      "\n",
      "--- Epoch 18 ---\n"
     ]
    },
    {
     "name": "stderr",
     "output_type": "stream",
     "text": [
      "\n",
      "48it [01:37,  2.03s/it]\n",
      "10it [00:19,  2.00s/it]"
     ]
    },
    {
     "name": "stdout",
     "output_type": "stream",
     "text": [
      "Train_loss: 1.4146, Val_loss: 1.3356, Precision: 0.4345, Recall: 0.4557, F1: 0.3942\n",
      "\n",
      "--- Epoch 19 ---\n"
     ]
    },
    {
     "name": "stderr",
     "output_type": "stream",
     "text": [
      "\n",
      "48it [01:34,  1.97s/it]\n",
      "10it [00:19,  1.97s/it]\n"
     ]
    },
    {
     "name": "stdout",
     "output_type": "stream",
     "text": [
      "Train_loss: 1.5187, Val_loss: 1.0230, Precision: 0.5884, Recall: 0.6962, F1: 0.6200\n",
      "\n",
      "--- Epoch 20 ---\n"
     ]
    },
    {
     "name": "stderr",
     "output_type": "stream",
     "text": [
      "48it [01:35,  2.00s/it]\n",
      "10it [00:19,  1.96s/it]"
     ]
    },
    {
     "name": "stdout",
     "output_type": "stream",
     "text": [
      "Train_loss: 1.3856, Val_loss: 1.0356, Precision: 0.5970, Recall: 0.6709, F1: 0.5832\n",
      "Best F1-score: 0.6200 in epoch 20\n"
     ]
    },
    {
     "name": "stderr",
     "output_type": "stream",
     "text": [
      "\n"
     ]
    }
   ],
   "source": [
    "# Create directory for saving model weights\n",
    "os.makedirs('/root/akhsup/weights', exist_ok=True)\n",
    "os.environ['CUDA_LAUNCH_BLOCKING'] = '1'\n",
    "\n",
    "# Initialize training variables\n",
    "iteration = 0\n",
    "train_losses, val_losses = [], []\n",
    "precisions, recalls, f1_scores = [], [], []\n",
    "train_loss, val_loss = 0.0, 0.0\n",
    "best_f1 = 0.0\n",
    "\n",
    "# Move model to the appropriate device\n",
    "model = model.to(device)\n",
    "\n",
    "# Training loop\n",
    "for epoch in range(num_epochs):\n",
    "    print(f\"\\n--- Epoch {epoch+1} ---\")\n",
    "    \n",
    "    for phase in ['train', 'val']:\n",
    "        if phase == 'train':\n",
    "            model.train()\n",
    "        else:\n",
    "            model.eval()\n",
    "\n",
    "        epoch_loss = 0.0\n",
    "        all_labels, all_preds = [], []\n",
    "\n",
    "        for batch_i, (X, y) in tqdm(enumerate(dataloaders[phase])):\n",
    "            image_sequences = X.to(device)\n",
    "            labels = y.to(device)\n",
    "            \n",
    "            optimizer.zero_grad()\n",
    "\n",
    "            with torch.set_grad_enabled(phase == 'train'):\n",
    "                predictions = model(image_sequences)\n",
    "                loss = cls_criterion(predictions, labels)\n",
    "                \n",
    "                if phase == 'train':\n",
    "                    loss.backward()\n",
    "                    optimizer.step()\n",
    "            \n",
    "            epoch_loss += loss.item() * image_sequences.size(0)\n",
    "            _, preds = torch.max(predictions, 1)\n",
    "            all_labels.extend(labels.cpu().numpy())\n",
    "            all_preds.extend(preds.cpu().numpy())\n",
    "\n",
    "            # Update learning rate and momentum for training phase\n",
    "            if phase == 'train':\n",
    "                lr, mom = onecyc.calc()\n",
    "                update_lr(optimizer, lr)\n",
    "                update_mom(optimizer, mom)\n",
    "\n",
    "            if torch.cuda.is_available():\n",
    "                torch.cuda.empty_cache()\n",
    "        \n",
    "        # Compute average loss and metrics\n",
    "        epoch_loss /= len(dataloaders[phase].dataset)\n",
    "        precision = precision_score(all_labels, all_preds, average='weighted', zero_division=0)\n",
    "        recall = recall_score(all_labels, all_preds, average='weighted', zero_division=0)\n",
    "        f1 = f1_score(all_labels, all_preds, average='weighted', zero_division=0)\n",
    "        \n",
    "        if phase == 'train':\n",
    "            train_losses.append(epoch_loss)\n",
    "            train_loss = epoch_loss\n",
    "        else:\n",
    "            val_losses.append(epoch_loss)\n",
    "            val_loss = epoch_loss\n",
    "            precisions.append(precision)\n",
    "            recalls.append(recall)\n",
    "            f1_scores.append(f1)\n",
    "            \n",
    "            # Save best model based on F1-score\n",
    "            if f1 > best_f1:\n",
    "                best_f1 = f1\n",
    "                best_epoch = epoch + 1\n",
    "                torch.save(model.state_dict(), f'/root/akhsup/weights/best_model_f1_{best_epoch}.pth')\n",
    "    \n",
    "    print(f\"Train_loss: {train_loss:.4f}, Val_loss: {val_loss:.4f}, Precision: {precision:.4f}, Recall: {recall:.4f}, F1: {f1:.4f}\")\n",
    "\n",
    "print(f\"Best F1-score: {best_f1:.4f} in epoch {best_epoch}\")\n"
   ]
  },
  {
   "cell_type": "code",
   "execution_count": 13,
   "id": "526204b4",
   "metadata": {},
   "outputs": [
    {
     "data": {
      "image/png": "[encoded data removed]",
      "text/plain": [
       "<Figure size 1000x500 with 1 Axes>"
      ]
     },
     "metadata": {},
     "output_type": "display_data"
    }
   ],
   "source": [
    "plt.figure(figsize=(10, 5))\n",
    "plt.plot(train_losses, label='Train Loss')\n",
    "plt.plot(val_losses, label='Val Loss')\n",
    "plt.xlabel('Epoch')\n",
    "plt.ylabel('Loss')\n",
    "plt.title('Train and Validation Loss (try 1)')\n",
    "plt.legend()\n",
    "plt.savefig('/root/akhsup/weights/loss_plot.png')\n",
    "plt.show()"
   ]
  },
  {
   "cell_type": "code",
   "execution_count": 9,
   "id": "f8ae790a",
   "metadata": {},
   "outputs": [],
   "source": [
    "def load_model(model_path, num_classes=19):\n",
    "    \"\"\"\n",
    "    Load the pretrained model from the specified path.\n",
    "    \"\"\"\n",
    "    model = resnet200(class_num=num_classes)\n",
    "    model.load_state_dict(torch.load(model_path))\n",
    "    model.eval()\n",
    "    return model\n",
    "\n",
    "def preprocess_video(video_path, sequence_length=10, im_size=128):\n",
    "    \"\"\"\n",
    "    Preprocess the video into a tensor that can be fed into the model.\n",
    "    \"\"\"\n",
    "    transform = transforms.Compose([\n",
    "        transforms.ToPILImage(),\n",
    "        transforms.Resize((im_size, im_size)),\n",
    "        transforms.ToTensor(),\n",
    "        transforms.Normalize(mean=[0.4889, 0.4887, 0.4891], std=[0.2074, 0.2074, 0.2074])\n",
    "    ])\n",
    "\n",
    "    cap = cv2.VideoCapture(video_path)\n",
    "    frames = []\n",
    "\n",
    "    while len(frames) < sequence_length:\n",
    "        ret, frame = cap.read()\n",
    "        if not ret:\n",
    "            break \n",
    "        frame = cv2.cvtColor(frame, cv2.COLOR_BGR2RGB)\n",
    "        frame = transform(frame) \n",
    "        frames.append(frame)\n",
    "\n",
    "    cap.release()\n",
    "\n",
    "    if len(frames) == 0:\n",
    "        raise ValueError(f\"Ошибка: Видео '{video_path}' не содержит кадров или файл повреждён.\")\n",
    "\n",
    "    # Pad the frames to ensure the sequence length is met\n",
    "    while len(frames) < sequence_length:\n",
    "        frames.append(torch.zeros_like(frames[-1]))\n",
    "\n",
    "    # Convert frames to a tensor and permute to (channels, sequence_length, height, width)\n",
    "    video_tensor = torch.stack(frames)  # (sequence_length, channels, height, width)\n",
    "    video_tensor = video_tensor.permute(1, 0, 2, 3)  # (channels, sequence_length, height, width)\n",
    "    \n",
    "    return video_tensor.unsqueeze(0)  # Add batch dimension: (1, channels, sequence_length, height, width)\n",
    "\n",
    "def predict_video(model, video_tensor, device):\n",
    "    \"\"\"\n",
    "    Perform prediction on a video tensor using the given model.\n",
    "    \"\"\"\n",
    "    with torch.no_grad():\n",
    "        video_tensor = video_tensor.to(device)\n",
    "        outputs = model(video_tensor)\n",
    "        _, predicted = torch.max(outputs, 1)\n",
    "    return predicted.item()\n",
    "\n",
    "def test_video(model_path, video_path, encoder, device='cuda' if torch.cuda.is_available() else 'cpu'):\n",
    "    \"\"\"\n",
    "    Test the model on a video, returning the predicted class.\n",
    "    \"\"\"\n",
    "    model = load_model(model_path)\n",
    "    model = model.to(device)\n",
    "\n",
    "    video_tensor = preprocess_video(video_path)\n",
    "\n",
    "    predicted_class = predict_video(model, video_tensor, device)\n",
    "    \n",
    "    # Map the predicted class index to its label\n",
    "    predicted_label = encoder.get(predicted_class, \"Unknown class\")\n",
    "    \n",
    "    # You can print the label or the class index for debugging or logging\n",
    "    print(f\"Predicted class: {predicted_label} (index {predicted_class})\")\n",
    "\n",
    "    return predicted_class\n",
    "\n",
    "# Example usage:\n",
    "# if __name__ == \"__main__\":\n",
    "#     model_path = \"/path/to/model.pth\"\n",
    "#     video_path = \"/path/to/video.mp4\"\n",
    "#     encoder = {0: \"Class1\", 1: \"Class2\", 2: \"Class3\", ...}  # Define your encoder\n",
    "#     predicted_class = test_video(model_path, video_path, encoder)\n"
   ]
  },
  {
   "cell_type": "code",
   "execution_count": 39,
   "id": "d05a3e6c",
   "metadata": {},
   "outputs": [
    {
     "name": "stderr",
     "output_type": "stream",
     "text": [
      "/tmp/ipykernel_762807/2322475451.py:3: FutureWarning: You are using `torch.load` with `weights_only=False` (the current default value), which uses the default pickle module implicitly. It is possible to construct malicious pickle data which will execute arbitrary code during unpickling (See https://github.com/pytorch/pytorch/blob/main/SECURITY.md#untrusted-models for more details). In a future release, the default value for `weights_only` will be flipped to `True`. This limits the functions that could be executed during unpickling. Arbitrary objects will no longer be allowed to be loaded via this mode unless they are explicitly allowlisted by the user via `torch.serialization.add_safe_globals`. We recommend you start setting `weights_only=True` for any use case where you don't have full control of the loaded file. Please open an issue on GitHub for any issues related to this experimental feature.\n",
      "  model.load_state_dict(torch.load(model_path))\n"
     ]
    },
    {
     "name": "stdout",
     "output_type": "stream",
     "text": [
      "Name of Predicted class: measure\n",
      "Number of predicted class: 3\n"
     ]
    }
   ],
   "source": [
    "#верно (с валидации)\n",
    "model_path = \"/root/akhsup/weights/best_model_f1_19.pth\"\n",
    "video_path = \"/root/tatneft/datasets/violations_dataset/cuts1/ch03_20231002080315_cut_002613_002618.mp4\"\n",
    "test_video(model_path, video_path, encoder)"
   ]
  },
  {
   "cell_type": "code",
   "execution_count": 40,
   "id": "0cf0d116",
   "metadata": {},
   "outputs": [
    {
     "name": "stderr",
     "output_type": "stream",
     "text": [
      "/tmp/ipykernel_762807/2322475451.py:3: FutureWarning: You are using `torch.load` with `weights_only=False` (the current default value), which uses the default pickle module implicitly. It is possible to construct malicious pickle data which will execute arbitrary code during unpickling (See https://github.com/pytorch/pytorch/blob/main/SECURITY.md#untrusted-models for more details). In a future release, the default value for `weights_only` will be flipped to `True`. This limits the functions that could be executed during unpickling. Arbitrary objects will no longer be allowed to be loaded via this mode unless they are explicitly allowlisted by the user via `torch.serialization.add_safe_globals`. We recommend you start setting `weights_only=True` for any use case where you don't have full control of the loaded file. Please open an issue on GitHub for any issues related to this experimental feature.\n",
      "  model.load_state_dict(torch.load(model_path))\n"
     ]
    },
    {
     "name": "stdout",
     "output_type": "stream",
     "text": [
      "Name of Predicted class: syringing\n",
      "Number of predicted class: 1\n"
     ]
    }
   ],
   "source": [
    "#неверно долнжо быть 0 (с валидации)\n",
    "model_path = \"/root/akhsup/weights/best_model_f1_19.pth\"\n",
    "video_path = \"/root/tatneft/datasets/violations_dataset/cuts1/ch03_20231002080000_cut_000036_000041.mp4\"\n",
    "test_video(model_path, video_path, encoder)"
   ]
  },
  {
   "cell_type": "code",
   "execution_count": 41,
   "id": "9be4eb68",
   "metadata": {},
   "outputs": [
    {
     "name": "stderr",
     "output_type": "stream",
     "text": [
      "/tmp/ipykernel_762807/2322475451.py:3: FutureWarning: You are using `torch.load` with `weights_only=False` (the current default value), which uses the default pickle module implicitly. It is possible to construct malicious pickle data which will execute arbitrary code during unpickling (See https://github.com/pytorch/pytorch/blob/main/SECURITY.md#untrusted-models for more details). In a future release, the default value for `weights_only` will be flipped to `True`. This limits the functions that could be executed during unpickling. Arbitrary objects will no longer be allowed to be loaded via this mode unless they are explicitly allowlisted by the user via `torch.serialization.add_safe_globals`. We recommend you start setting `weights_only=True` for any use case where you don't have full control of the loaded file. Please open an issue on GitHub for any issues related to this experimental feature.\n",
      "  model.load_state_dict(torch.load(model_path))\n"
     ]
    },
    {
     "name": "stdout",
     "output_type": "stream",
     "text": [
      "Name of Predicted class: syringing\n",
      "Number of predicted class: 1\n"
     ]
    }
   ],
   "source": [
    "#верно (с валидации)\n",
    "model_path = \"/root/akhsup/weights/best_model_f1_19.pth\"\n",
    "video_path = \"/root/tatneft/datasets/violations_dataset/cuts1/ch03_20231002080315_cut_001021_001026.mp4\"\n",
    "test_video(model_path, video_path, encoder)"
   ]
  },
  {
   "cell_type": "code",
   "execution_count": 42,
   "id": "43dd603e",
   "metadata": {},
   "outputs": [
    {
     "name": "stderr",
     "output_type": "stream",
     "text": [
      "/tmp/ipykernel_762807/2322475451.py:3: FutureWarning: You are using `torch.load` with `weights_only=False` (the current default value), which uses the default pickle module implicitly. It is possible to construct malicious pickle data which will execute arbitrary code during unpickling (See https://github.com/pytorch/pytorch/blob/main/SECURITY.md#untrusted-models for more details). In a future release, the default value for `weights_only` will be flipped to `True`. This limits the functions that could be executed during unpickling. Arbitrary objects will no longer be allowed to be loaded via this mode unless they are explicitly allowlisted by the user via `torch.serialization.add_safe_globals`. We recommend you start setting `weights_only=True` for any use case where you don't have full control of the loaded file. Please open an issue on GitHub for any issues related to this experimental feature.\n",
      "  model.load_state_dict(torch.load(model_path))\n"
     ]
    },
    {
     "name": "stdout",
     "output_type": "stream",
     "text": [
      "Name of Predicted class: pipe_work\n",
      "Number of predicted class: 4\n"
     ]
    }
   ],
   "source": [
    "#верно (с валидации)\n",
    "model_path = \"/root/akhsup/weights/best_model_f1_19.pth\"\n",
    "video_path = \"/root/tatneft/datasets/violations_dataset/cuts1/ch03_20231002080315_cut_004400_004405.mp4\"\n",
    "test_video(model_path, video_path, encoder)"
   ]
  },
  {
   "cell_type": "code",
   "execution_count": 43,
   "id": "838fef94",
   "metadata": {},
   "outputs": [
    {
     "name": "stderr",
     "output_type": "stream",
     "text": [
      "/tmp/ipykernel_762807/2322475451.py:3: FutureWarning: You are using `torch.load` with `weights_only=False` (the current default value), which uses the default pickle module implicitly. It is possible to construct malicious pickle data which will execute arbitrary code during unpickling (See https://github.com/pytorch/pytorch/blob/main/SECURITY.md#untrusted-models for more details). In a future release, the default value for `weights_only` will be flipped to `True`. This limits the functions that could be executed during unpickling. Arbitrary objects will no longer be allowed to be loaded via this mode unless they are explicitly allowlisted by the user via `torch.serialization.add_safe_globals`. We recommend you start setting `weights_only=True` for any use case where you don't have full control of the loaded file. Please open an issue on GitHub for any issues related to this experimental feature.\n",
      "  model.load_state_dict(torch.load(model_path))\n"
     ]
    },
    {
     "name": "stdout",
     "output_type": "stream",
     "text": [
      "Name of Predicted class: HRW_work\n",
      "Number of predicted class: 5\n"
     ]
    }
   ],
   "source": [
    "#верно (с валидации)\n",
    "model_path = \"/root/akhsup/weights/best_model_f1_19.pth\"\n",
    "video_path = \"/root/tatneft/datasets/violations_dataset/cuts1/ch03_20231002080315_cut_005031_005036.mp4\"\n",
    "test_video(model_path, video_path, encoder)"
   ]
  },
  {
   "cell_type": "code",
   "execution_count": 44,
   "id": "b02643bf",
   "metadata": {},
   "outputs": [
    {
     "name": "stderr",
     "output_type": "stream",
     "text": [
      "/tmp/ipykernel_762807/2322475451.py:3: FutureWarning: You are using `torch.load` with `weights_only=False` (the current default value), which uses the default pickle module implicitly. It is possible to construct malicious pickle data which will execute arbitrary code during unpickling (See https://github.com/pytorch/pytorch/blob/main/SECURITY.md#untrusted-models for more details). In a future release, the default value for `weights_only` will be flipped to `True`. This limits the functions that could be executed during unpickling. Arbitrary objects will no longer be allowed to be loaded via this mode unless they are explicitly allowlisted by the user via `torch.serialization.add_safe_globals`. We recommend you start setting `weights_only=True` for any use case where you don't have full control of the loaded file. Please open an issue on GitHub for any issues related to this experimental feature.\n",
      "  model.load_state_dict(torch.load(model_path))\n"
     ]
    },
    {
     "name": "stdout",
     "output_type": "stream",
     "text": [
      "Name of Predicted class: HRW_work\n",
      "Number of predicted class: 5\n"
     ]
    }
   ],
   "source": [
    "#неверно должен быть 7 (с валидации)\n",
    "model_path = \"/root/akhsup/weights/best_model_f1_19.pth\"\n",
    "video_path = \"/root/tatneft/datasets/violations_dataset/cuts1/ch03_20231002080315_cut_005304_005309.mp4\"\n",
    "test_video(model_path, video_path, encoder)"
   ]
  },
  {
   "cell_type": "code",
   "execution_count": null,
   "id": "2f7ed4b4",
   "metadata": {},
   "outputs": [],
   "source": [
    "\"\"\"Validation statistic check\"\"\"\n",
    "\n",
    "df = pd.DataFrame(columns=['video', 'prediction', 'label', 'duration'])\n",
    "model_path = \"/root/akhsup/weights/best_model_f1_19.pth\"\n",
    "val_labels = []\n",
    "with open('/root/tatneft/datasets/violations_dataset/cuts1_val.txt', 'r') as f:\n",
    "        for line in f:\n",
    "            video_file, label = line.strip().split()\n",
    "            val_labels.append((video_file, int(label)))\n",
    "\n",
    "for video, label in val_labels:\n",
    "    video_path = '/root/tatneft/datasets/violations_dataset/cuts1/' + video\n",
    "    predict = test_video(model_path, video_path, encoder)\n",
    "    clip = VideoFileClip(video_path)\n",
    "    new_row = {\n",
    "        'video': video,\n",
    "        'prediction': predict,\n",
    "        'label': label, \n",
    "        'duration': clip.duration\n",
    "    }\n",
    "    df = pd.concat([df, pd.DataFrame([new_row])], ignore_index=True)\n",
    "print(df)\n",
    "    "
   ]
  }
 ],
 "metadata": {
  "colab": {
   "provenance": []
  },
  "kernelspec": {
   "display_name": "tatneft",
   "language": "python",
   "name": "tatneft"
  },
  "language_info": {
   "codemirror_mode": {
    "name": "ipython",
    "version": 3
   },
   "file_extension": ".py",
   "mimetype": "text/x-python",
   "name": "python",
   "nbconvert_exporter": "python",
   "pygments_lexer": "ipython3",
   "version": "3.10.0"
  },
  "widgets": {
   "application/vnd.jupyter.widget-state+json": {
    "06b8a0459549421395de7718536417df": {
     "model_module": "@jupyter-widgets/controls",
     "model_module_version": "1.5.0",
     "model_name": "DescriptionStyleModel",
     "state": {
      "_model_module": "@jupyter-widgets/controls",
      "_model_module_version": "1.5.0",
      "_model_name": "DescriptionStyleModel",
      "_view_count": null,
      "_view_module": "@jupyter-widgets/base",
      "_view_module_version": "1.2.0",
      "_view_name": "StyleView",
      "description_width": ""
     }
    },
    "235d7ce842f247a09ae3a55ff2071f8e": {
     "model_module": "@jupyter-widgets/base",
     "model_module_version": "1.2.0",
     "model_name": "LayoutModel",
     "state": {
      "_model_module": "@jupyter-widgets/base",
      "_model_module_version": "1.2.0",
      "_model_name": "LayoutModel",
      "_view_count": null,
      "_view_module": "@jupyter-widgets/base",
      "_view_module_version": "1.2.0",
      "_view_name": "LayoutView",
      "align_content": null,
      "align_items": null,
      "align_self": null,
      "border": null,
      "bottom": null,
      "display": null,
      "flex": null,
      "flex_flow": null,
      "grid_area": null,
      "grid_auto_columns": null,
      "grid_auto_flow": null,
      "grid_auto_rows": null,
      "grid_column": null,
      "grid_gap": null,
      "grid_row": null,
      "grid_template_areas": null,
      "grid_template_columns": null,
      "grid_template_rows": null,
      "height": null,
      "justify_content": null,
      "justify_items": null,
      "left": null,
      "margin": null,
      "max_height": null,
      "max_width": null,
      "min_height": null,
      "min_width": null,
      "object_fit": null,
      "object_position": null,
      "order": null,
      "overflow": null,
      "overflow_x": null,
      "overflow_y": null,
      "padding": null,
      "right": null,
      "top": null,
      "visibility": null,
      "width": null
     }
    },
    "3907e592cb9c445c845733a557ae1720": {
     "model_module": "@jupyter-widgets/controls",
     "model_module_version": "1.5.0",
     "model_name": "HTMLModel",
     "state": {
      "_dom_classes": [],
      "_model_module": "@jupyter-widgets/controls",
      "_model_module_version": "1.5.0",
      "_model_name": "HTMLModel",
      "_view_count": null,
      "_view_module": "@jupyter-widgets/controls",
      "_view_module_version": "1.5.0",
      "_view_name": "HTMLView",
      "description": "",
      "description_tooltip": null,
      "layout": "IPY_MODEL_db1c0c82310a4e01961a90095f4f29b4",
      "placeholder": "​",
      "style": "IPY_MODEL_06b8a0459549421395de7718536417df",
      "value": " 2/465 [00:00&lt;00:04, 93.07it/s]"
     }
    },
    "4554afe822fb48a4af582d76276a7d24": {
     "model_module": "@jupyter-widgets/base",
     "model_module_version": "1.2.0",
     "model_name": "LayoutModel",
     "state": {
      "_model_module": "@jupyter-widgets/base",
      "_model_module_version": "1.2.0",
      "_model_name": "LayoutModel",
      "_view_count": null,
      "_view_module": "@jupyter-widgets/base",
      "_view_module_version": "1.2.0",
      "_view_name": "LayoutView",
      "align_content": null,
      "align_items": null,
      "align_self": null,
      "border": null,
      "bottom": null,
      "display": null,
      "flex": null,
      "flex_flow": null,
      "grid_area": null,
      "grid_auto_columns": null,
      "grid_auto_flow": null,
      "grid_auto_rows": null,
      "grid_column": null,
      "grid_gap": null,
      "grid_row": null,
      "grid_template_areas": null,
      "grid_template_columns": null,
      "grid_template_rows": null,
      "height": null,
      "justify_content": null,
      "justify_items": null,
      "left": null,
      "margin": null,
      "max_height": null,
      "max_width": null,
      "min_height": null,
      "min_width": null,
      "object_fit": null,
      "object_position": null,
      "order": null,
      "overflow": null,
      "overflow_x": null,
      "overflow_y": null,
      "padding": null,
      "right": null,
      "top": null,
      "visibility": null,
      "width": null
     }
    },
    "6645df8386b9451baa975f7b1cdaf07d": {
     "model_module": "@jupyter-widgets/controls",
     "model_module_version": "1.5.0",
     "model_name": "ProgressStyleModel",
     "state": {
      "_model_module": "@jupyter-widgets/controls",
      "_model_module_version": "1.5.0",
      "_model_name": "ProgressStyleModel",
      "_view_count": null,
      "_view_module": "@jupyter-widgets/base",
      "_view_module_version": "1.2.0",
      "_view_name": "StyleView",
      "bar_color": null,
      "description_width": ""
     }
    },
    "7301625c753d4f2d906ac5810512c5ae": {
     "model_module": "@jupyter-widgets/controls",
     "model_module_version": "1.5.0",
     "model_name": "FloatProgressModel",
     "state": {
      "_dom_classes": [],
      "_model_module": "@jupyter-widgets/controls",
      "_model_module_version": "1.5.0",
      "_model_name": "FloatProgressModel",
      "_view_count": null,
      "_view_module": "@jupyter-widgets/controls",
      "_view_module_version": "1.5.0",
      "_view_name": "ProgressView",
      "bar_style": "danger",
      "description": "",
      "description_tooltip": null,
      "layout": "IPY_MODEL_4554afe822fb48a4af582d76276a7d24",
      "max": 465,
      "min": 0,
      "orientation": "horizontal",
      "style": "IPY_MODEL_6645df8386b9451baa975f7b1cdaf07d",
      "value": 2
     }
    },
    "a883fb8a46844925943690fad81370bc": {
     "model_module": "@jupyter-widgets/controls",
     "model_module_version": "1.5.0",
     "model_name": "DescriptionStyleModel",
     "state": {
      "_model_module": "@jupyter-widgets/controls",
      "_model_module_version": "1.5.0",
      "_model_name": "DescriptionStyleModel",
      "_view_count": null,
      "_view_module": "@jupyter-widgets/base",
      "_view_module_version": "1.2.0",
      "_view_name": "StyleView",
      "description_width": ""
     }
    },
    "aa7b09bbf6d640e5bd5b67f943206dfa": {
     "model_module": "@jupyter-widgets/controls",
     "model_module_version": "1.5.0",
     "model_name": "HBoxModel",
     "state": {
      "_dom_classes": [],
      "_model_module": "@jupyter-widgets/controls",
      "_model_module_version": "1.5.0",
      "_model_name": "HBoxModel",
      "_view_count": null,
      "_view_module": "@jupyter-widgets/controls",
      "_view_module_version": "1.5.0",
      "_view_name": "HBoxView",
      "box_style": "",
      "children": [
       "IPY_MODEL_f7e1735e2f734d209e0210bddbae583b",
       "IPY_MODEL_7301625c753d4f2d906ac5810512c5ae",
       "IPY_MODEL_3907e592cb9c445c845733a557ae1720"
      ],
      "layout": "IPY_MODEL_235d7ce842f247a09ae3a55ff2071f8e"
     }
    },
    "db1c0c82310a4e01961a90095f4f29b4": {
     "model_module": "@jupyter-widgets/base",
     "model_module_version": "1.2.0",
     "model_name": "LayoutModel",
     "state": {
      "_model_module": "@jupyter-widgets/base",
      "_model_module_version": "1.2.0",
      "_model_name": "LayoutModel",
      "_view_count": null,
      "_view_module": "@jupyter-widgets/base",
      "_view_module_version": "1.2.0",
      "_view_name": "LayoutView",
      "align_content": null,
      "align_items": null,
      "align_self": null,
      "border": null,
      "bottom": null,
      "display": null,
      "flex": null,
      "flex_flow": null,
      "grid_area": null,
      "grid_auto_columns": null,
      "grid_auto_flow": null,
      "grid_auto_rows": null,
      "grid_column": null,
      "grid_gap": null,
      "grid_row": null,
      "grid_template_areas": null,
      "grid_template_columns": null,
      "grid_template_rows": null,
      "height": null,
      "justify_content": null,
      "justify_items": null,
      "left": null,
      "margin": null,
      "max_height": null,
      "max_width": null,
      "min_height": null,
      "min_width": null,
      "object_fit": null,
      "object_position": null,
      "order": null,
      "overflow": null,
      "overflow_x": null,
      "overflow_y": null,
      "padding": null,
      "right": null,
      "top": null,
      "visibility": null,
      "width": null
     }
    },
    "e734a380e7f142e6bdd5d3f8d218c0d9": {
     "model_module": "@jupyter-widgets/base",
     "model_module_version": "1.2.0",
     "model_name": "LayoutModel",
     "state": {
      "_model_module": "@jupyter-widgets/base",
      "_model_module_version": "1.2.0",
      "_model_name": "LayoutModel",
      "_view_count": null,
      "_view_module": "@jupyter-widgets/base",
      "_view_module_version": "1.2.0",
      "_view_name": "LayoutView",
      "align_content": null,
      "align_items": null,
      "align_self": null,
      "border": null,
      "bottom": null,
      "display": null,
      "flex": null,
      "flex_flow": null,
      "grid_area": null,
      "grid_auto_columns": null,
      "grid_auto_flow": null,
      "grid_auto_rows": null,
      "grid_column": null,
      "grid_gap": null,
      "grid_row": null,
      "grid_template_areas": null,
      "grid_template_columns": null,
      "grid_template_rows": null,
      "height": null,
      "justify_content": null,
      "justify_items": null,
      "left": null,
      "margin": null,
      "max_height": null,
      "max_width": null,
      "min_height": null,
      "min_width": null,
      "object_fit": null,
      "object_position": null,
      "order": null,
      "overflow": null,
      "overflow_x": null,
      "overflow_y": null,
      "padding": null,
      "right": null,
      "top": null,
      "visibility": null,
      "width": null
     }
    },
    "f7e1735e2f734d209e0210bddbae583b": {
     "model_module": "@jupyter-widgets/controls",
     "model_module_version": "1.5.0",
     "model_name": "HTMLModel",
     "state": {
      "_dom_classes": [],
      "_model_module": "@jupyter-widgets/controls",
      "_model_module_version": "1.5.0",
      "_model_name": "HTMLModel",
      "_view_count": null,
      "_view_module": "@jupyter-widgets/controls",
      "_view_module_version": "1.5.0",
      "_view_name": "HTMLView",
      "description": "",
      "description_tooltip": null,
      "layout": "IPY_MODEL_e734a380e7f142e6bdd5d3f8d218c0d9",
      "placeholder": "​",
      "style": "IPY_MODEL_a883fb8a46844925943690fad81370bc",
      "value": "  0%"
     }
    }
   }
  }
 },
 "nbformat": 4,
 "nbformat_minor": 5
}
